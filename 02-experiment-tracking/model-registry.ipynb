{
 "cells": [
  {
   "cell_type": "markdown",
   "metadata": {},
   "source": [
    "## MLflow's Model Registry"
   ]
  },
  {
   "cell_type": "code",
   "execution_count": 92,
   "metadata": {},
   "outputs": [],
   "source": [
    "from mlflow.tracking import MlflowClient\n",
    "\n",
    "\n",
    "MLFLOW_TRACKING_URI = \"sqlite:///mlflow.db\""
   ]
  },
  {
   "cell_type": "markdown",
   "metadata": {},
   "source": [
    "### Interacting with the MLflow tracking server\n",
    "\n",
    "The `MlflowClient` object allows us to interact with...\n",
    "- an MLflow Tracking Server that creates and manages experiments and runs.\n",
    "- an MLflow Registry Server that creates and manages registered models and model versions. \n",
    "\n",
    "To instantiate it we need to pass a tracking URI and/or a registry URI"
   ]
  },
  {
   "cell_type": "markdown",
   "metadata": {},
   "source": [
    "### 2.5\n",
    "update api: list_experiment to search_experiments"
   ]
  },
  {
   "cell_type": "code",
   "execution_count": 93,
   "metadata": {},
   "outputs": [
    {
     "data": {
      "text/plain": [
       "[<Experiment: artifact_location='/Users/gabriel/workspace/selfstudy/mlops_zoomcamp/02-experiment-tracking/mlruns/4', creation_time=1717900888078, experiment_id='4', last_update_time=1717900888078, lifecycle_stage='active', name='demo-study-group-w2-part1', tags={}>,\n",
       " <Experiment: artifact_location='/Users/gabriel/workspace/selfstudy/mlops_zoomcamp/02-experiment-tracking/mlruns/2', creation_time=1717352208982, experiment_id='2', last_update_time=1717352208982, lifecycle_stage='active', name='nyc-taxi-experiment', tags={}>,\n",
       " <Experiment: artifact_location='/Users/gabriel/workspace/selfstudy/mlops_zoomcamp/02-experiment-tracking/mlruns/0', creation_time=1717352186315, experiment_id='0', last_update_time=1717352186315, lifecycle_stage='active', name='Default', tags={}>]"
      ]
     },
     "execution_count": 93,
     "metadata": {},
     "output_type": "execute_result"
    }
   ],
   "source": [
    "client = MlflowClient(tracking_uri=MLFLOW_TRACKING_URI)\n",
    "\n",
    "client.search_experiments()"
   ]
  },
  {
   "cell_type": "code",
   "execution_count": 94,
   "metadata": {},
   "outputs": [],
   "source": [
    "#client.create_experiment(name=\"demo-study-group-w2-part1\")"
   ]
  },
  {
   "cell_type": "markdown",
   "metadata": {},
   "source": [
    "Let's check the latest versions for the experiment with id `1`..."
   ]
  },
  {
   "cell_type": "code",
   "execution_count": 95,
   "metadata": {},
   "outputs": [],
   "source": [
    "from mlflow.entities import ViewType\n",
    "\n",
    "runs = client.search_runs(\n",
    "    experiment_ids='4',\n",
    "    filter_string=\"metrics.rmse < 7\",\n",
    "    run_view_type=ViewType.ACTIVE_ONLY,\n",
    "    max_results=5,\n",
    "    order_by=[\"metrics.rmse ASC\"]\n",
    ")"
   ]
  },
  {
   "cell_type": "code",
   "execution_count": 96,
   "metadata": {},
   "outputs": [
    {
     "data": {
      "text/plain": [
       "[<Run: data=<RunData: metrics={'best_iteration': 217.0,\n",
       "  'rmse': 6.310178838640537,\n",
       "  'stopped_iteration': 267.0,\n",
       "  'validation-rmse': 6.307605634208257}, params={'custom_metric': 'None',\n",
       "  'early_stopping_rounds': '50',\n",
       "  'learning_rate': '0.30070237573310177',\n",
       "  'max_depth': '62',\n",
       "  'maximize': 'None',\n",
       "  'min_child_weight': '1.7064946336172562',\n",
       "  'num_boost_round': '1000',\n",
       "  'objective': 'reg:linear',\n",
       "  'reg_alpha': '0.012171939658517199',\n",
       "  'reg_lambda': '0.3301990638226685',\n",
       "  'seed': '42',\n",
       "  'verbose_eval': 'True'}, tags={'mlflow.log-model.history': '[{\"run_id\": \"26c7438ec7e042aea691d8701af225cf\", '\n",
       "                              '\"artifact_path\": \"model\", \"utc_time_created\": '\n",
       "                              '\"2024-06-09 03:33:32.359594\", \"flavors\": '\n",
       "                              '{\"python_function\": {\"loader_module\": '\n",
       "                              '\"mlflow.xgboost\", \"python_version\": \"3.10.14\", '\n",
       "                              '\"data\": \"model.xgb\", \"env\": {\"conda\": '\n",
       "                              '\"conda.yaml\", \"virtualenv\": \"python_env.yaml\"}}, '\n",
       "                              '\"xgboost\": {\"xgb_version\": \"2.0.3\", \"data\": '\n",
       "                              '\"model.xgb\", \"model_class\": '\n",
       "                              '\"xgboost.core.Booster\", \"model_format\": \"xgb\", '\n",
       "                              '\"code\": null}}, \"model_uuid\": '\n",
       "                              '\"87ed76e632d4498caccfb09fa5e27c8b\", '\n",
       "                              '\"mlflow_version\": \"2.13.1\", \"model_size_bytes\": '\n",
       "                              '4645430}, {\"run_id\": '\n",
       "                              '\"26c7438ec7e042aea691d8701af225cf\", '\n",
       "                              '\"artifact_path\": \"models_mlflow\", '\n",
       "                              '\"utc_time_created\": \"2024-06-09 '\n",
       "                              '03:33:35.327514\", \"flavors\": {\"python_function\": '\n",
       "                              '{\"loader_module\": \"mlflow.xgboost\", '\n",
       "                              '\"python_version\": \"3.10.14\", \"data\": '\n",
       "                              '\"model.xgb\", \"env\": {\"conda\": \"conda.yaml\", '\n",
       "                              '\"virtualenv\": \"python_env.yaml\"}}, \"xgboost\": '\n",
       "                              '{\"xgb_version\": \"2.0.3\", \"data\": \"model.xgb\", '\n",
       "                              '\"model_class\": \"xgboost.core.Booster\", '\n",
       "                              '\"model_format\": \"xgb\", \"code\": null}}, '\n",
       "                              '\"model_uuid\": '\n",
       "                              '\"b2fe3ac614984804a3331fbc103196f6\", '\n",
       "                              '\"mlflow_version\": \"2.13.1\", \"model_size_bytes\": '\n",
       "                              '4645430}]',\n",
       "  'mlflow.runName': 'merciful-newt-674',\n",
       "  'mlflow.source.name': '/Users/gabriel/miniconda3/envs/mlops-w2/lib/python3.10/site-packages/ipykernel_launcher.py',\n",
       "  'mlflow.source.type': 'LOCAL',\n",
       "  'mlflow.user': 'gabriel',\n",
       "  'models': 'xgboost'}>, info=<RunInfo: artifact_uri='/Users/gabriel/workspace/selfstudy/mlops_zoomcamp/02-experiment-tracking/mlruns/4/26c7438ec7e042aea691d8701af225cf/artifacts', end_time=1717904016389, experiment_id='4', lifecycle_stage='active', run_id='26c7438ec7e042aea691d8701af225cf', run_name='merciful-newt-674', run_uuid='26c7438ec7e042aea691d8701af225cf', start_time=1717903973875, status='FINISHED', user_id='gabriel'>, inputs=<RunInputs: dataset_inputs=[<DatasetInput: dataset=<Dataset: digest='4c74e29a', name='dataset', profile=('{\"features_shape\": [73908, 13221], \"features_size\": 977137668, '\n",
       "  '\"features_nbytes\": 3908550672}'), schema=('{\"mlflow_tensorspec\": {\"features\": \"[{\\\\\"type\\\\\": \\\\\"tensor\\\\\", '\n",
       "  '\\\\\"tensor-spec\\\\\": {\\\\\"dtype\\\\\": \\\\\"float32\\\\\", \\\\\"shape\\\\\": [-1, '\n",
       "  '13221]}}]\", \"targets\": null}}'), source=('{\"tags\": {\"mlflow.user\": \"gabriel\", \"mlflow.source.name\": '\n",
       "  '\"/Users/gabriel/miniconda3/envs/mlops-w2/lib/python3.10/site-packages/ipykernel_launcher.py\", '\n",
       "  '\"mlflow.source.type\": \"LOCAL\"}}'), source_type='code'>, tags=[<InputTag: key='mlflow.data.context', value='train'>]>,\n",
       "  <DatasetInput: dataset=<Dataset: digest='0f5f0969', name='validation', profile=('{\"features_shape\": [61921, 13221], \"features_size\": 818657541, '\n",
       "  '\"features_nbytes\": 3274630164}'), schema=('{\"mlflow_tensorspec\": {\"features\": \"[{\\\\\"type\\\\\": \\\\\"tensor\\\\\", '\n",
       "  '\\\\\"tensor-spec\\\\\": {\\\\\"dtype\\\\\": \\\\\"float32\\\\\", \\\\\"shape\\\\\": [-1, '\n",
       "  '13221]}}]\", \"targets\": null}}'), source=('{\"tags\": {\"mlflow.user\": \"gabriel\", \"mlflow.source.name\": '\n",
       "  '\"/Users/gabriel/miniconda3/envs/mlops-w2/lib/python3.10/site-packages/ipykernel_launcher.py\", '\n",
       "  '\"mlflow.source.type\": \"LOCAL\"}}'), source_type='code'>, tags=[<InputTag: key='mlflow.data.context', value='eval'>]>]>>,\n",
       " <Run: data=<RunData: metrics={'rmse': 6.330154167100762}, params={'learning_rate': '0.3147379678843047',\n",
       "  'max_depth': '83',\n",
       "  'min_child_weight': '1.4053205395956756',\n",
       "  'objective': 'reg:linear',\n",
       "  'reg_alpha': '0.08146994232770573',\n",
       "  'reg_lambda': '0.07901724740847772',\n",
       "  'seed': '42'}, tags={'mlflow.runName': 'likeable-skunk-988',\n",
       "  'mlflow.source.name': '/Users/gabriel/miniconda3/envs/mlops-w2/lib/python3.10/site-packages/ipykernel_launcher.py',\n",
       "  'mlflow.source.type': 'LOCAL',\n",
       "  'mlflow.user': 'gabriel',\n",
       "  'model': 'xgboost'}>, info=<RunInfo: artifact_uri='/Users/gabriel/workspace/selfstudy/mlops_zoomcamp/02-experiment-tracking/mlruns/4/a19b2e7924c2490f8c684886bc201463/artifacts', end_time=1717902191557, experiment_id='4', lifecycle_stage='active', run_id='a19b2e7924c2490f8c684886bc201463', run_name='likeable-skunk-988', run_uuid='a19b2e7924c2490f8c684886bc201463', start_time=1717902180151, status='FINISHED', user_id='gabriel'>, inputs=<RunInputs: dataset_inputs=[]>>,\n",
       " <Run: data=<RunData: metrics={'rmse': 6.330198249893875}, params={'learning_rate': '0.3727353781184701',\n",
       "  'max_depth': '57',\n",
       "  'min_child_weight': '1.302926094095223',\n",
       "  'objective': 'reg:linear',\n",
       "  'reg_alpha': '0.36579493182973005',\n",
       "  'reg_lambda': '0.11873918190469156',\n",
       "  'seed': '42'}, tags={'mlflow.runName': 'ambitious-wolf-190',\n",
       "  'mlflow.source.name': '/Users/gabriel/miniconda3/envs/mlops-w2/lib/python3.10/site-packages/ipykernel_launcher.py',\n",
       "  'mlflow.source.type': 'LOCAL',\n",
       "  'mlflow.user': 'gabriel',\n",
       "  'model': 'xgboost'}>, info=<RunInfo: artifact_uri='/Users/gabriel/workspace/selfstudy/mlops_zoomcamp/02-experiment-tracking/mlruns/4/c62153746db94f589fdf45f1b83d6a80/artifacts', end_time=1717902273837, experiment_id='4', lifecycle_stage='active', run_id='c62153746db94f589fdf45f1b83d6a80', run_name='ambitious-wolf-190', run_uuid='c62153746db94f589fdf45f1b83d6a80', start_time=1717902266596, status='FINISHED', user_id='gabriel'>, inputs=<RunInputs: dataset_inputs=[]>>,\n",
       " <Run: data=<RunData: metrics={'rmse': 6.330798161075641}, params={'learning_rate': '0.2965786008075955',\n",
       "  'max_depth': '82',\n",
       "  'min_child_weight': '1.4051190434109049',\n",
       "  'objective': 'reg:linear',\n",
       "  'reg_alpha': '0.08244349927685307',\n",
       "  'reg_lambda': '0.05946775361404327',\n",
       "  'seed': '42'}, tags={'mlflow.runName': 'sedate-crane-857',\n",
       "  'mlflow.source.name': '/Users/gabriel/miniconda3/envs/mlops-w2/lib/python3.10/site-packages/ipykernel_launcher.py',\n",
       "  'mlflow.source.type': 'LOCAL',\n",
       "  'mlflow.user': 'gabriel',\n",
       "  'model': 'xgboost'}>, info=<RunInfo: artifact_uri='/Users/gabriel/workspace/selfstudy/mlops_zoomcamp/02-experiment-tracking/mlruns/4/310226654c6f4a69a29f8f35a55de79f/artifacts', end_time=1717902205350, experiment_id='4', lifecycle_stage='active', run_id='310226654c6f4a69a29f8f35a55de79f', run_name='sedate-crane-857', run_uuid='310226654c6f4a69a29f8f35a55de79f', start_time=1717902193977, status='FINISHED', user_id='gabriel'>, inputs=<RunInputs: dataset_inputs=[]>>,\n",
       " <Run: data=<RunData: metrics={'rmse': 6.341903974785594}, params={'learning_rate': '0.724051002464774',\n",
       "  'max_depth': '43',\n",
       "  'min_child_weight': '1.0923574420425037',\n",
       "  'objective': 'reg:linear',\n",
       "  'reg_alpha': '0.20115829452014466',\n",
       "  'reg_lambda': '0.3474092572608738',\n",
       "  'seed': '42'}, tags={'mlflow.runName': 'invincible-kit-826',\n",
       "  'mlflow.source.name': '/Users/gabriel/miniconda3/envs/mlops-w2/lib/python3.10/site-packages/ipykernel_launcher.py',\n",
       "  'mlflow.source.type': 'LOCAL',\n",
       "  'mlflow.user': 'gabriel',\n",
       "  'model': 'xgboost'}>, info=<RunInfo: artifact_uri='/Users/gabriel/workspace/selfstudy/mlops_zoomcamp/02-experiment-tracking/mlruns/4/a15c9471441f41878ef8c7fc0dcdb959/artifacts', end_time=1717902301310, experiment_id='4', lifecycle_stage='active', run_id='a15c9471441f41878ef8c7fc0dcdb959', run_name='invincible-kit-826', run_uuid='a15c9471441f41878ef8c7fc0dcdb959', start_time=1717902296098, status='FINISHED', user_id='gabriel'>, inputs=<RunInputs: dataset_inputs=[]>>]"
      ]
     },
     "execution_count": 96,
     "metadata": {},
     "output_type": "execute_result"
    }
   ],
   "source": [
    "runs"
   ]
  },
  {
   "cell_type": "code",
   "execution_count": 97,
   "metadata": {},
   "outputs": [
    {
     "name": "stdout",
     "output_type": "stream",
     "text": [
      "run id: 26c7438ec7e042aea691d8701af225cf, rmse: 6.3102\n",
      "run id: a19b2e7924c2490f8c684886bc201463, rmse: 6.3302\n",
      "run id: c62153746db94f589fdf45f1b83d6a80, rmse: 6.3302\n",
      "run id: 310226654c6f4a69a29f8f35a55de79f, rmse: 6.3308\n",
      "run id: a15c9471441f41878ef8c7fc0dcdb959, rmse: 6.3419\n"
     ]
    }
   ],
   "source": [
    "for run in runs:\n",
    "    print(f\"run id: {run.info.run_id}, rmse: {run.data.metrics['rmse']:.4f}\")"
   ]
  },
  {
   "cell_type": "code",
   "execution_count": null,
   "metadata": {},
   "outputs": [],
   "source": []
  },
  {
   "cell_type": "markdown",
   "metadata": {},
   "source": [
    "### Interacting with the Model Registry\n",
    "\n",
    "In this section We will use the `MlflowClient` instance to:\n",
    "\n",
    "1. Register a new version for the experiment `nyc-taxi-regressor`\n",
    "2. Retrieve the latests versions of the model `nyc-taxi-regressor` and check that a new version `4` was created.\n",
    "3. Transition the version `4` to \"Staging\" and adding annotations to it."
   ]
  },
  {
   "cell_type": "code",
   "execution_count": 98,
   "metadata": {},
   "outputs": [],
   "source": [
    "import mlflow\n",
    "\n",
    "mlflow.set_tracking_uri(MLFLOW_TRACKING_URI)"
   ]
  },
  {
   "cell_type": "code",
   "execution_count": 99,
   "metadata": {},
   "outputs": [
    {
     "name": "stderr",
     "output_type": "stream",
     "text": [
      "Registered model 'demo-w2-p1' already exists. Creating a new version of this model...\n",
      "Created version '4' of model 'demo-w2-p1'.\n"
     ]
    },
    {
     "data": {
      "text/plain": [
       "<ModelVersion: aliases=[], creation_timestamp=1717912671472, current_stage='None', description=None, last_updated_timestamp=1717912671472, name='demo-w2-p1', run_id='26c7438ec7e042aea691d8701af225cf', run_link=None, source='/Users/gabriel/workspace/selfstudy/mlops_zoomcamp/02-experiment-tracking/mlruns/4/26c7438ec7e042aea691d8701af225cf/artifacts/model', status='READY', status_message=None, tags={}, user_id=None, version=4>"
      ]
     },
     "execution_count": 99,
     "metadata": {},
     "output_type": "execute_result"
    }
   ],
   "source": [
    "run_id = \"26c7438ec7e042aea691d8701af225cf\"\n",
    "model_uri = f\"runs:/{run_id}/model\"\n",
    "mlflow.register_model(model_uri=model_uri, name=\"demo-w2-p1\")"
   ]
  },
  {
   "cell_type": "code",
   "execution_count": 100,
   "metadata": {},
   "outputs": [
    {
     "name": "stdout",
     "output_type": "stream",
     "text": [
      "version: 2, stage: Staging\n",
      "version: 3, stage: Production\n",
      "version: 4, stage: None\n"
     ]
    },
    {
     "name": "stderr",
     "output_type": "stream",
     "text": [
      "/var/folders/09/p_32v97x0m92g9kb_3v9t2wm0000gn/T/ipykernel_5937/2992258537.py:2: FutureWarning: ``mlflow.tracking.client.MlflowClient.get_latest_versions`` is deprecated since 2.9.0. Model registry stages will be removed in a future major release. To learn more about the deprecation of model registry stages, see our migration guide here: https://mlflow.org/docs/2.13.1/model-registry.html#migrating-from-stages\n",
      "  latest_versions = client.get_latest_versions(name=model_name)\n"
     ]
    }
   ],
   "source": [
    "model_name = \"demo-w2-p1\"\n",
    "latest_versions = client.get_latest_versions(name=model_name)\n",
    "\n",
    "for version in latest_versions:\n",
    "    print(f\"version: {version.version}, stage: {version.current_stage}\")"
   ]
  },
  {
   "cell_type": "code",
   "execution_count": 101,
   "metadata": {},
   "outputs": [
    {
     "name": "stdout",
     "output_type": "stream",
     "text": [
      "[<ModelVersion: aliases=[], creation_timestamp=1717909487356, current_stage='Staging', description='The model version 2 was transitioned to Staging on 2024-06-09', last_updated_timestamp=1717911862560, name='demo-w2-p1', run_id='26c7438ec7e042aea691d8701af225cf', run_link='', source='/Users/gabriel/workspace/selfstudy/mlops_zoomcamp/02-experiment-tracking/mlruns/4/26c7438ec7e042aea691d8701af225cf/artifacts/models_mlflow', status='READY', status_message=None, tags={}, user_id=None, version=2>, <ModelVersion: aliases=[], creation_timestamp=1717911802236, current_stage='Production', description='The model version 3 was transitioned to Staging on 2024-06-09', last_updated_timestamp=1717912580871, name='demo-w2-p1', run_id='26c7438ec7e042aea691d8701af225cf', run_link=None, source='/Users/gabriel/workspace/selfstudy/mlops_zoomcamp/02-experiment-tracking/mlruns/4/26c7438ec7e042aea691d8701af225cf/artifacts/model', status='READY', status_message=None, tags={}, user_id=None, version=3>, <ModelVersion: aliases=[], creation_timestamp=1717912671472, current_stage='None', description=None, last_updated_timestamp=1717912671472, name='demo-w2-p1', run_id='26c7438ec7e042aea691d8701af225cf', run_link=None, source='/Users/gabriel/workspace/selfstudy/mlops_zoomcamp/02-experiment-tracking/mlruns/4/26c7438ec7e042aea691d8701af225cf/artifacts/model', status='READY', status_message=None, tags={}, user_id=None, version=4>]\n"
     ]
    }
   ],
   "source": [
    "print(latest_versions)"
   ]
  },
  {
   "cell_type": "code",
   "execution_count": 102,
   "metadata": {},
   "outputs": [
    {
     "name": "stderr",
     "output_type": "stream",
     "text": [
      "/var/folders/09/p_32v97x0m92g9kb_3v9t2wm0000gn/T/ipykernel_5937/1957332551.py:3: FutureWarning: ``mlflow.tracking.client.MlflowClient.transition_model_version_stage`` is deprecated since 2.9.0. Model registry stages will be removed in a future major release. To learn more about the deprecation of model registry stages, see our migration guide here: https://mlflow.org/docs/2.13.1/model-registry.html#migrating-from-stages\n",
      "  client.transition_model_version_stage(\n"
     ]
    },
    {
     "data": {
      "text/plain": [
       "<ModelVersion: aliases=[], creation_timestamp=1717911802236, current_stage='Staging', description='The model version 3 was transitioned to Staging on 2024-06-09', last_updated_timestamp=1717912671503, name='demo-w2-p1', run_id='26c7438ec7e042aea691d8701af225cf', run_link=None, source='/Users/gabriel/workspace/selfstudy/mlops_zoomcamp/02-experiment-tracking/mlruns/4/26c7438ec7e042aea691d8701af225cf/artifacts/model', status='READY', status_message=None, tags={}, user_id=None, version=3>"
      ]
     },
     "execution_count": 102,
     "metadata": {},
     "output_type": "execute_result"
    }
   ],
   "source": [
    "model_version = 3\n",
    "new_stage = \"Staging\"\n",
    "client.transition_model_version_stage(\n",
    "    name=model_name,\n",
    "    version=model_version,\n",
    "    stage=new_stage,\n",
    "    archive_existing_versions=False\n",
    ")"
   ]
  },
  {
   "cell_type": "markdown",
   "metadata": {},
   "source": [
    "### 2.5\n",
    "After this, check the description of the model, should have:\n",
    "\n",
    "The model version 3 was ... to Staging ..."
   ]
  },
  {
   "cell_type": "code",
   "execution_count": 103,
   "metadata": {},
   "outputs": [
    {
     "data": {
      "text/plain": [
       "<ModelVersion: aliases=[], creation_timestamp=1717911802236, current_stage='Staging', description='The model version 3 was transitioned to Staging on 2024-06-09', last_updated_timestamp=1717912671513, name='demo-w2-p1', run_id='26c7438ec7e042aea691d8701af225cf', run_link=None, source='/Users/gabriel/workspace/selfstudy/mlops_zoomcamp/02-experiment-tracking/mlruns/4/26c7438ec7e042aea691d8701af225cf/artifacts/model', status='READY', status_message=None, tags={}, user_id=None, version=3>"
      ]
     },
     "execution_count": 103,
     "metadata": {},
     "output_type": "execute_result"
    }
   ],
   "source": [
    "from datetime import datetime\n",
    "\n",
    "date = datetime.today().date()\n",
    "client.update_model_version(\n",
    "    name=model_name,\n",
    "    version=model_version,\n",
    "    description=f\"The model version {model_version} was transitioned to {new_stage} on {date}\"\n",
    ")"
   ]
  },
  {
   "cell_type": "code",
   "execution_count": null,
   "metadata": {},
   "outputs": [],
   "source": []
  },
  {
   "cell_type": "markdown",
   "metadata": {},
   "source": [
    "### Comparing versions and selecting the new \"Production\" model\n",
    "\n",
    "In the last section, we will retrieve models registered in the model registry and compare their performance on an unseen test set. The idea is to simulate the scenario in which a deployment engineer has to interact with the model registry to decide whether to update the model version that is in production or not.\n",
    "\n",
    "These are the steps:\n",
    "\n",
    "1. Load the test dataset, which corresponds to the NYC Green Taxi data from the month of March 2021.\n",
    "2. Download the `DictVectorizer` that was fitted using the training data and saved to MLflow as an artifact, and load it with pickle.\n",
    "3. Preprocess the test set using the `DictVectorizer` so we can properly feed the regressors.\n",
    "4. Make predictions on the test set using the model versions that are currently in the \"Staging\" and \"Production\" stages, and compare their performance.\n",
    "5. Based on the results, update the \"Production\" model version accordingly.\n",
    "\n",
    "\n",
    "**Note: the model registry doesn't actually deploy the model to production when you transition a model to the \"Production\" stage, it just assign a label to that model version. You should complement the registry with some CI/CD code that does the actual deployment.**"
   ]
  },
  {
   "cell_type": "code",
   "execution_count": 104,
   "metadata": {},
   "outputs": [],
   "source": [
    "from sklearn.metrics import mean_squared_error\n",
    "import pandas as pd\n",
    "\n",
    "\n",
    "def read_dataframe(df):\n",
    "    #df = pd.read_csv(filename)\n",
    "\n",
    "    df.lpep_dropoff_datetime = pd.to_datetime(df.lpep_dropoff_datetime)\n",
    "    df.lpep_pickup_datetime = pd.to_datetime(df.lpep_pickup_datetime)\n",
    "\n",
    "    df['duration'] = df.lpep_dropoff_datetime - df.lpep_pickup_datetime\n",
    "    df.duration = df.duration.apply(lambda td: td.total_seconds() / 60)\n",
    "\n",
    "    df = df[(df.duration >= 1) & (df.duration <= 60)]\n",
    "\n",
    "    categorical = ['PULocationID', 'DOLocationID']\n",
    "    df[categorical] = df[categorical].astype(str)\n",
    "    \n",
    "    return df\n",
    "\n",
    "\n",
    "def preprocess(df, dv):\n",
    "    df['PU_DO'] = df['PULocationID'] + '_' + df['DOLocationID']\n",
    "    categorical = ['PU_DO']\n",
    "    numerical = ['trip_distance']\n",
    "    train_dicts = df[categorical + numerical].to_dict(orient='records')\n",
    "    return dv.transform(train_dicts)\n",
    "\n",
    "\n",
    "def test_model(name, stage, X_test, y_test):\n",
    "    model = mlflow.pyfunc.load_model(f\"models:/{name}/{stage}\")\n",
    "    y_pred = model.predict(X_test)\n",
    "    return {\"rmse\": mean_squared_error(y_test, y_pred, squared=False)}"
   ]
  },
  {
   "cell_type": "code",
   "execution_count": null,
   "metadata": {},
   "outputs": [],
   "source": []
  },
  {
   "cell_type": "code",
   "execution_count": 105,
   "metadata": {},
   "outputs": [
    {
     "name": "stderr",
     "output_type": "stream",
     "text": [
      "/var/folders/09/p_32v97x0m92g9kb_3v9t2wm0000gn/T/ipykernel_5937/3233001999.py:17: SettingWithCopyWarning: \n",
      "A value is trying to be set on a copy of a slice from a DataFrame.\n",
      "Try using .loc[row_indexer,col_indexer] = value instead\n",
      "\n",
      "See the caveats in the documentation: https://pandas.pydata.org/pandas-docs/stable/user_guide/indexing.html#returning-a-view-versus-a-copy\n",
      "  df[categorical] = df[categorical].astype(str)\n"
     ]
    }
   ],
   "source": [
    "#df = read_dataframe(\"data/green_tripdata_2021-03.parquet\")\n",
    "df = pd.read_parquet('./data/green_tripdata_2021-03.parquet')\n",
    "df = read_dataframe(df)"
   ]
  },
  {
   "cell_type": "code",
   "execution_count": 106,
   "metadata": {},
   "outputs": [
    {
     "data": {
      "application/vnd.jupyter.widget-view+json": {
       "model_id": "c0f0efb46ffb41388de3aba152d731f2",
       "version_major": 2,
       "version_minor": 0
      },
      "text/plain": [
       "Downloading artifacts:   0%|          | 0/1 [00:00<?, ?it/s]"
      ]
     },
     "metadata": {},
     "output_type": "display_data"
    },
    {
     "data": {
      "text/plain": [
       "'/Users/gabriel/workspace/selfstudy/mlops_zoomcamp/02-experiment-tracking/preprocessor'"
      ]
     },
     "execution_count": 106,
     "metadata": {},
     "output_type": "execute_result"
    }
   ],
   "source": [
    "client.download_artifacts(run_id=run_id, path='preprocessor', dst_path='.')"
   ]
  },
  {
   "cell_type": "code",
   "execution_count": 107,
   "metadata": {},
   "outputs": [],
   "source": [
    "import pickle\n",
    "\n",
    "with open(\"preprocessor/preprocessor.b\", \"rb\") as f_in:\n",
    "    dv = pickle.load(f_in)"
   ]
  },
  {
   "cell_type": "code",
   "execution_count": 108,
   "metadata": {},
   "outputs": [
    {
     "data": {
      "text/html": [
       "<div>\n",
       "<style scoped>\n",
       "    .dataframe tbody tr th:only-of-type {\n",
       "        vertical-align: middle;\n",
       "    }\n",
       "\n",
       "    .dataframe tbody tr th {\n",
       "        vertical-align: top;\n",
       "    }\n",
       "\n",
       "    .dataframe thead th {\n",
       "        text-align: right;\n",
       "    }\n",
       "</style>\n",
       "<table border=\"1\" class=\"dataframe\">\n",
       "  <thead>\n",
       "    <tr style=\"text-align: right;\">\n",
       "      <th></th>\n",
       "      <th>VendorID</th>\n",
       "      <th>lpep_pickup_datetime</th>\n",
       "      <th>lpep_dropoff_datetime</th>\n",
       "      <th>store_and_fwd_flag</th>\n",
       "      <th>RatecodeID</th>\n",
       "      <th>PULocationID</th>\n",
       "      <th>DOLocationID</th>\n",
       "      <th>passenger_count</th>\n",
       "      <th>trip_distance</th>\n",
       "      <th>fare_amount</th>\n",
       "      <th>...</th>\n",
       "      <th>mta_tax</th>\n",
       "      <th>tip_amount</th>\n",
       "      <th>tolls_amount</th>\n",
       "      <th>ehail_fee</th>\n",
       "      <th>improvement_surcharge</th>\n",
       "      <th>total_amount</th>\n",
       "      <th>payment_type</th>\n",
       "      <th>trip_type</th>\n",
       "      <th>congestion_surcharge</th>\n",
       "      <th>duration</th>\n",
       "    </tr>\n",
       "  </thead>\n",
       "  <tbody>\n",
       "    <tr>\n",
       "      <th>0</th>\n",
       "      <td>2</td>\n",
       "      <td>2021-03-01 00:05:42</td>\n",
       "      <td>2021-03-01 00:14:03</td>\n",
       "      <td>N</td>\n",
       "      <td>1.0</td>\n",
       "      <td>83</td>\n",
       "      <td>129</td>\n",
       "      <td>1.0</td>\n",
       "      <td>1.56</td>\n",
       "      <td>7.50</td>\n",
       "      <td>...</td>\n",
       "      <td>0.5</td>\n",
       "      <td>0.00</td>\n",
       "      <td>0.0</td>\n",
       "      <td>None</td>\n",
       "      <td>0.3</td>\n",
       "      <td>8.80</td>\n",
       "      <td>1.0</td>\n",
       "      <td>1.0</td>\n",
       "      <td>0.0</td>\n",
       "      <td>8.350000</td>\n",
       "    </tr>\n",
       "    <tr>\n",
       "      <th>1</th>\n",
       "      <td>2</td>\n",
       "      <td>2021-03-01 00:21:03</td>\n",
       "      <td>2021-03-01 00:26:17</td>\n",
       "      <td>N</td>\n",
       "      <td>1.0</td>\n",
       "      <td>243</td>\n",
       "      <td>235</td>\n",
       "      <td>1.0</td>\n",
       "      <td>0.96</td>\n",
       "      <td>6.00</td>\n",
       "      <td>...</td>\n",
       "      <td>0.5</td>\n",
       "      <td>0.00</td>\n",
       "      <td>0.0</td>\n",
       "      <td>None</td>\n",
       "      <td>0.3</td>\n",
       "      <td>7.30</td>\n",
       "      <td>2.0</td>\n",
       "      <td>1.0</td>\n",
       "      <td>0.0</td>\n",
       "      <td>5.233333</td>\n",
       "    </tr>\n",
       "    <tr>\n",
       "      <th>2</th>\n",
       "      <td>2</td>\n",
       "      <td>2021-03-01 00:02:06</td>\n",
       "      <td>2021-03-01 00:22:26</td>\n",
       "      <td>N</td>\n",
       "      <td>1.0</td>\n",
       "      <td>75</td>\n",
       "      <td>242</td>\n",
       "      <td>1.0</td>\n",
       "      <td>9.93</td>\n",
       "      <td>28.00</td>\n",
       "      <td>...</td>\n",
       "      <td>0.5</td>\n",
       "      <td>2.00</td>\n",
       "      <td>0.0</td>\n",
       "      <td>None</td>\n",
       "      <td>0.3</td>\n",
       "      <td>31.30</td>\n",
       "      <td>1.0</td>\n",
       "      <td>1.0</td>\n",
       "      <td>0.0</td>\n",
       "      <td>20.333333</td>\n",
       "    </tr>\n",
       "    <tr>\n",
       "      <th>3</th>\n",
       "      <td>2</td>\n",
       "      <td>2021-03-01 00:24:03</td>\n",
       "      <td>2021-03-01 00:31:43</td>\n",
       "      <td>N</td>\n",
       "      <td>1.0</td>\n",
       "      <td>242</td>\n",
       "      <td>208</td>\n",
       "      <td>1.0</td>\n",
       "      <td>2.57</td>\n",
       "      <td>9.50</td>\n",
       "      <td>...</td>\n",
       "      <td>0.5</td>\n",
       "      <td>0.00</td>\n",
       "      <td>0.0</td>\n",
       "      <td>None</td>\n",
       "      <td>0.3</td>\n",
       "      <td>10.80</td>\n",
       "      <td>2.0</td>\n",
       "      <td>1.0</td>\n",
       "      <td>0.0</td>\n",
       "      <td>7.666667</td>\n",
       "    </tr>\n",
       "    <tr>\n",
       "      <th>4</th>\n",
       "      <td>1</td>\n",
       "      <td>2021-03-01 00:11:10</td>\n",
       "      <td>2021-03-01 00:14:46</td>\n",
       "      <td>N</td>\n",
       "      <td>1.0</td>\n",
       "      <td>41</td>\n",
       "      <td>151</td>\n",
       "      <td>1.0</td>\n",
       "      <td>0.80</td>\n",
       "      <td>5.00</td>\n",
       "      <td>...</td>\n",
       "      <td>0.5</td>\n",
       "      <td>1.85</td>\n",
       "      <td>0.0</td>\n",
       "      <td>None</td>\n",
       "      <td>0.3</td>\n",
       "      <td>8.15</td>\n",
       "      <td>1.0</td>\n",
       "      <td>1.0</td>\n",
       "      <td>0.0</td>\n",
       "      <td>3.600000</td>\n",
       "    </tr>\n",
       "    <tr>\n",
       "      <th>...</th>\n",
       "      <td>...</td>\n",
       "      <td>...</td>\n",
       "      <td>...</td>\n",
       "      <td>...</td>\n",
       "      <td>...</td>\n",
       "      <td>...</td>\n",
       "      <td>...</td>\n",
       "      <td>...</td>\n",
       "      <td>...</td>\n",
       "      <td>...</td>\n",
       "      <td>...</td>\n",
       "      <td>...</td>\n",
       "      <td>...</td>\n",
       "      <td>...</td>\n",
       "      <td>...</td>\n",
       "      <td>...</td>\n",
       "      <td>...</td>\n",
       "      <td>...</td>\n",
       "      <td>...</td>\n",
       "      <td>...</td>\n",
       "      <td>...</td>\n",
       "    </tr>\n",
       "    <tr>\n",
       "      <th>83822</th>\n",
       "      <td>2</td>\n",
       "      <td>2021-03-31 22:07:00</td>\n",
       "      <td>2021-03-31 22:13:00</td>\n",
       "      <td>None</td>\n",
       "      <td>NaN</td>\n",
       "      <td>41</td>\n",
       "      <td>75</td>\n",
       "      <td>NaN</td>\n",
       "      <td>1.48</td>\n",
       "      <td>8.46</td>\n",
       "      <td>...</td>\n",
       "      <td>0.0</td>\n",
       "      <td>1.44</td>\n",
       "      <td>0.0</td>\n",
       "      <td>None</td>\n",
       "      <td>0.3</td>\n",
       "      <td>10.20</td>\n",
       "      <td>NaN</td>\n",
       "      <td>NaN</td>\n",
       "      <td>NaN</td>\n",
       "      <td>6.000000</td>\n",
       "    </tr>\n",
       "    <tr>\n",
       "      <th>83823</th>\n",
       "      <td>2</td>\n",
       "      <td>2021-03-31 22:56:00</td>\n",
       "      <td>2021-03-31 23:13:00</td>\n",
       "      <td>None</td>\n",
       "      <td>NaN</td>\n",
       "      <td>95</td>\n",
       "      <td>95</td>\n",
       "      <td>NaN</td>\n",
       "      <td>0.09</td>\n",
       "      <td>54.25</td>\n",
       "      <td>...</td>\n",
       "      <td>0.0</td>\n",
       "      <td>0.00</td>\n",
       "      <td>0.0</td>\n",
       "      <td>None</td>\n",
       "      <td>0.3</td>\n",
       "      <td>57.30</td>\n",
       "      <td>NaN</td>\n",
       "      <td>NaN</td>\n",
       "      <td>NaN</td>\n",
       "      <td>17.000000</td>\n",
       "    </tr>\n",
       "    <tr>\n",
       "      <th>83824</th>\n",
       "      <td>2</td>\n",
       "      <td>2021-03-31 22:36:00</td>\n",
       "      <td>2021-03-31 22:45:00</td>\n",
       "      <td>None</td>\n",
       "      <td>NaN</td>\n",
       "      <td>95</td>\n",
       "      <td>95</td>\n",
       "      <td>NaN</td>\n",
       "      <td>0.66</td>\n",
       "      <td>8.11</td>\n",
       "      <td>...</td>\n",
       "      <td>0.0</td>\n",
       "      <td>0.00</td>\n",
       "      <td>0.0</td>\n",
       "      <td>None</td>\n",
       "      <td>0.3</td>\n",
       "      <td>8.41</td>\n",
       "      <td>NaN</td>\n",
       "      <td>NaN</td>\n",
       "      <td>NaN</td>\n",
       "      <td>9.000000</td>\n",
       "    </tr>\n",
       "    <tr>\n",
       "      <th>83825</th>\n",
       "      <td>2</td>\n",
       "      <td>2021-03-31 23:35:00</td>\n",
       "      <td>2021-04-01 00:00:00</td>\n",
       "      <td>None</td>\n",
       "      <td>NaN</td>\n",
       "      <td>37</td>\n",
       "      <td>14</td>\n",
       "      <td>NaN</td>\n",
       "      <td>9.58</td>\n",
       "      <td>36.83</td>\n",
       "      <td>...</td>\n",
       "      <td>0.0</td>\n",
       "      <td>0.00</td>\n",
       "      <td>0.0</td>\n",
       "      <td>None</td>\n",
       "      <td>0.3</td>\n",
       "      <td>39.88</td>\n",
       "      <td>NaN</td>\n",
       "      <td>NaN</td>\n",
       "      <td>NaN</td>\n",
       "      <td>25.000000</td>\n",
       "    </tr>\n",
       "    <tr>\n",
       "      <th>83826</th>\n",
       "      <td>2</td>\n",
       "      <td>2021-03-31 23:23:00</td>\n",
       "      <td>2021-03-31 23:32:00</td>\n",
       "      <td>None</td>\n",
       "      <td>NaN</td>\n",
       "      <td>116</td>\n",
       "      <td>166</td>\n",
       "      <td>NaN</td>\n",
       "      <td>1.88</td>\n",
       "      <td>9.46</td>\n",
       "      <td>...</td>\n",
       "      <td>0.0</td>\n",
       "      <td>2.14</td>\n",
       "      <td>0.0</td>\n",
       "      <td>None</td>\n",
       "      <td>0.3</td>\n",
       "      <td>11.90</td>\n",
       "      <td>NaN</td>\n",
       "      <td>NaN</td>\n",
       "      <td>NaN</td>\n",
       "      <td>9.000000</td>\n",
       "    </tr>\n",
       "  </tbody>\n",
       "</table>\n",
       "<p>80372 rows × 21 columns</p>\n",
       "</div>"
      ],
      "text/plain": [
       "       VendorID lpep_pickup_datetime lpep_dropoff_datetime store_and_fwd_flag  \\\n",
       "0             2  2021-03-01 00:05:42   2021-03-01 00:14:03                  N   \n",
       "1             2  2021-03-01 00:21:03   2021-03-01 00:26:17                  N   \n",
       "2             2  2021-03-01 00:02:06   2021-03-01 00:22:26                  N   \n",
       "3             2  2021-03-01 00:24:03   2021-03-01 00:31:43                  N   \n",
       "4             1  2021-03-01 00:11:10   2021-03-01 00:14:46                  N   \n",
       "...         ...                  ...                   ...                ...   \n",
       "83822         2  2021-03-31 22:07:00   2021-03-31 22:13:00               None   \n",
       "83823         2  2021-03-31 22:56:00   2021-03-31 23:13:00               None   \n",
       "83824         2  2021-03-31 22:36:00   2021-03-31 22:45:00               None   \n",
       "83825         2  2021-03-31 23:35:00   2021-04-01 00:00:00               None   \n",
       "83826         2  2021-03-31 23:23:00   2021-03-31 23:32:00               None   \n",
       "\n",
       "       RatecodeID PULocationID DOLocationID  passenger_count  trip_distance  \\\n",
       "0             1.0           83          129              1.0           1.56   \n",
       "1             1.0          243          235              1.0           0.96   \n",
       "2             1.0           75          242              1.0           9.93   \n",
       "3             1.0          242          208              1.0           2.57   \n",
       "4             1.0           41          151              1.0           0.80   \n",
       "...           ...          ...          ...              ...            ...   \n",
       "83822         NaN           41           75              NaN           1.48   \n",
       "83823         NaN           95           95              NaN           0.09   \n",
       "83824         NaN           95           95              NaN           0.66   \n",
       "83825         NaN           37           14              NaN           9.58   \n",
       "83826         NaN          116          166              NaN           1.88   \n",
       "\n",
       "       fare_amount  ...  mta_tax  tip_amount  tolls_amount  ehail_fee  \\\n",
       "0             7.50  ...      0.5        0.00           0.0       None   \n",
       "1             6.00  ...      0.5        0.00           0.0       None   \n",
       "2            28.00  ...      0.5        2.00           0.0       None   \n",
       "3             9.50  ...      0.5        0.00           0.0       None   \n",
       "4             5.00  ...      0.5        1.85           0.0       None   \n",
       "...            ...  ...      ...         ...           ...        ...   \n",
       "83822         8.46  ...      0.0        1.44           0.0       None   \n",
       "83823        54.25  ...      0.0        0.00           0.0       None   \n",
       "83824         8.11  ...      0.0        0.00           0.0       None   \n",
       "83825        36.83  ...      0.0        0.00           0.0       None   \n",
       "83826         9.46  ...      0.0        2.14           0.0       None   \n",
       "\n",
       "      improvement_surcharge  total_amount  payment_type  trip_type  \\\n",
       "0                       0.3          8.80           1.0        1.0   \n",
       "1                       0.3          7.30           2.0        1.0   \n",
       "2                       0.3         31.30           1.0        1.0   \n",
       "3                       0.3         10.80           2.0        1.0   \n",
       "4                       0.3          8.15           1.0        1.0   \n",
       "...                     ...           ...           ...        ...   \n",
       "83822                   0.3         10.20           NaN        NaN   \n",
       "83823                   0.3         57.30           NaN        NaN   \n",
       "83824                   0.3          8.41           NaN        NaN   \n",
       "83825                   0.3         39.88           NaN        NaN   \n",
       "83826                   0.3         11.90           NaN        NaN   \n",
       "\n",
       "       congestion_surcharge   duration  \n",
       "0                       0.0   8.350000  \n",
       "1                       0.0   5.233333  \n",
       "2                       0.0  20.333333  \n",
       "3                       0.0   7.666667  \n",
       "4                       0.0   3.600000  \n",
       "...                     ...        ...  \n",
       "83822                   NaN   6.000000  \n",
       "83823                   NaN  17.000000  \n",
       "83824                   NaN   9.000000  \n",
       "83825                   NaN  25.000000  \n",
       "83826                   NaN   9.000000  \n",
       "\n",
       "[80372 rows x 21 columns]"
      ]
     },
     "execution_count": 108,
     "metadata": {},
     "output_type": "execute_result"
    }
   ],
   "source": [
    "df"
   ]
  },
  {
   "cell_type": "code",
   "execution_count": 113,
   "metadata": {},
   "outputs": [],
   "source": [
    "X_test = preprocess(df, dv)"
   ]
  },
  {
   "cell_type": "code",
   "execution_count": 114,
   "metadata": {},
   "outputs": [],
   "source": [
    "target = \"duration\"\n",
    "y_test = df[target].values"
   ]
  },
  {
   "cell_type": "code",
   "execution_count": 115,
   "metadata": {},
   "outputs": [
    {
     "name": "stderr",
     "output_type": "stream",
     "text": [
      "/Users/gabriel/miniconda3/envs/mlops-w2/lib/python3.10/site-packages/mlflow/store/artifact/utils/models.py:32: FutureWarning: ``mlflow.tracking.client.MlflowClient.get_latest_versions`` is deprecated since 2.9.0. Model registry stages will be removed in a future major release. To learn more about the deprecation of model registry stages, see our migration guide here: https://mlflow.org/docs/2.13.1/model-registry.html#migrating-from-stages\n",
      "  latest = client.get_latest_versions(name, None if stage is None else [stage])\n",
      "/Users/gabriel/miniconda3/envs/mlops-w2/lib/python3.10/site-packages/xgboost/core.py:160: UserWarning: [01:59:20] WARNING: /Users/runner/work/xgboost/xgboost/src/objective/regression_obj.cu:209: reg:linear is now deprecated in favor of reg:squarederror.\n",
      "  warnings.warn(smsg, UserWarning)\n"
     ]
    },
    {
     "name": "stdout",
     "output_type": "stream",
     "text": [
      "CPU times: user 8.26 s, sys: 145 ms, total: 8.41 s\n",
      "Wall time: 1.2 s\n"
     ]
    },
    {
     "name": "stderr",
     "output_type": "stream",
     "text": [
      "/Users/gabriel/miniconda3/envs/mlops-w2/lib/python3.10/site-packages/sklearn/metrics/_regression.py:492: FutureWarning: 'squared' is deprecated in version 1.4 and will be removed in 1.6. To calculate the root mean squared error, use the function'root_mean_squared_error'.\n",
      "  warnings.warn(\n"
     ]
    },
    {
     "data": {
      "text/plain": [
       "{'rmse': 6.26089964278947}"
      ]
     },
     "execution_count": 115,
     "metadata": {},
     "output_type": "execute_result"
    }
   ],
   "source": [
    "%time test_model(name=model_name, stage=\"Staging\", X_test=X_test, y_test=y_test)"
   ]
  },
  {
   "cell_type": "code",
   "execution_count": 116,
   "metadata": {},
   "outputs": [
    {
     "name": "stderr",
     "output_type": "stream",
     "text": [
      "/var/folders/09/p_32v97x0m92g9kb_3v9t2wm0000gn/T/ipykernel_5937/684772386.py:1: FutureWarning: ``mlflow.tracking.client.MlflowClient.transition_model_version_stage`` is deprecated since 2.9.0. Model registry stages will be removed in a future major release. To learn more about the deprecation of model registry stages, see our migration guide here: https://mlflow.org/docs/2.13.1/model-registry.html#migrating-from-stages\n",
      "  client.transition_model_version_stage(\n"
     ]
    },
    {
     "data": {
      "text/plain": [
       "<ModelVersion: aliases=[], creation_timestamp=1717911802236, current_stage='Production', description='The model version 3 was transitioned to Staging on 2024-06-09', last_updated_timestamp=1717912763968, name='demo-w2-p1', run_id='26c7438ec7e042aea691d8701af225cf', run_link=None, source='/Users/gabriel/workspace/selfstudy/mlops_zoomcamp/02-experiment-tracking/mlruns/4/26c7438ec7e042aea691d8701af225cf/artifacts/model', status='READY', status_message=None, tags={}, user_id=None, version=3>"
      ]
     },
     "execution_count": 116,
     "metadata": {},
     "output_type": "execute_result"
    }
   ],
   "source": [
    "client.transition_model_version_stage(\n",
    "    name=model_name,\n",
    "    version=3,\n",
    "    stage=\"Production\",\n",
    "    archive_existing_versions=True\n",
    ")"
   ]
  },
  {
   "cell_type": "code",
   "execution_count": 117,
   "metadata": {},
   "outputs": [
    {
     "name": "stderr",
     "output_type": "stream",
     "text": [
      "/Users/gabriel/miniconda3/envs/mlops-w2/lib/python3.10/site-packages/mlflow/store/artifact/utils/models.py:32: FutureWarning: ``mlflow.tracking.client.MlflowClient.get_latest_versions`` is deprecated since 2.9.0. Model registry stages will be removed in a future major release. To learn more about the deprecation of model registry stages, see our migration guide here: https://mlflow.org/docs/2.13.1/model-registry.html#migrating-from-stages\n",
      "  latest = client.get_latest_versions(name, None if stage is None else [stage])\n",
      "/Users/gabriel/miniconda3/envs/mlops-w2/lib/python3.10/site-packages/xgboost/core.py:160: UserWarning: [01:59:28] WARNING: /Users/runner/work/xgboost/xgboost/src/objective/regression_obj.cu:209: reg:linear is now deprecated in favor of reg:squarederror.\n",
      "  warnings.warn(smsg, UserWarning)\n"
     ]
    },
    {
     "name": "stdout",
     "output_type": "stream",
     "text": [
      "CPU times: user 8.09 s, sys: 91.5 ms, total: 8.18 s\n",
      "Wall time: 1.13 s\n"
     ]
    },
    {
     "name": "stderr",
     "output_type": "stream",
     "text": [
      "/Users/gabriel/miniconda3/envs/mlops-w2/lib/python3.10/site-packages/sklearn/metrics/_regression.py:492: FutureWarning: 'squared' is deprecated in version 1.4 and will be removed in 1.6. To calculate the root mean squared error, use the function'root_mean_squared_error'.\n",
      "  warnings.warn(\n"
     ]
    },
    {
     "data": {
      "text/plain": [
       "{'rmse': 6.26089964278947}"
      ]
     },
     "execution_count": 117,
     "metadata": {},
     "output_type": "execute_result"
    }
   ],
   "source": [
    "%time test_model(name=model_name, stage=\"Production\", X_test=X_test, y_test=y_test)"
   ]
  },
  {
   "cell_type": "code",
   "execution_count": null,
   "metadata": {},
   "outputs": [],
   "source": []
  },
  {
   "cell_type": "code",
   "execution_count": null,
   "metadata": {},
   "outputs": [],
   "source": []
  }
 ],
 "metadata": {
  "interpreter": {
   "hash": "0848c9d6c7d415ad6c477ff7ff8e98694d1a4aa96d0deee89244642e6b630036"
  },
  "kernelspec": {
   "display_name": "Python 3.9.12 ('exp-tracking-env')",
   "language": "python",
   "name": "python3"
  },
  "language_info": {
   "codemirror_mode": {
    "name": "ipython",
    "version": 3
   },
   "file_extension": ".py",
   "mimetype": "text/x-python",
   "name": "python",
   "nbconvert_exporter": "python",
   "pygments_lexer": "ipython3",
   "version": "3.10.14"
  },
  "orig_nbformat": 4
 },
 "nbformat": 4,
 "nbformat_minor": 2
}
